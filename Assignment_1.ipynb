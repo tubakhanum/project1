{
  "nbformat": 4,
  "nbformat_minor": 5,
  "metadata": {
    "colab": {
      "name": "Assignment 1.ipynb",
      "provenance": [],
      "collapsed_sections": [],
      "include_colab_link": true
    },
    "kernelspec": {
      "display_name": "Python 3",
      "language": "python",
      "name": "python3"
    },
    "language_info": {
      "codemirror_mode": {
        "name": "ipython",
        "version": 3
      },
      "file_extension": ".py",
      "mimetype": "text/x-python",
      "name": "python",
      "nbconvert_exporter": "python",
      "pygments_lexer": "ipython3",
      "version": "3.8.8"
    }
  },
  "cells": [
    {
      "cell_type": "markdown",
      "metadata": {
        "id": "view-in-github",
        "colab_type": "text"
      },
      "source": [
        "<a href=\"https://colab.research.google.com/github/tubakhanum/project1/blob/main/Assignment_1.ipynb\" target=\"_parent\"><img src=\"https://colab.research.google.com/assets/colab-badge.svg\" alt=\"Open In Colab\"/></a>"
      ]
    },
    {
      "cell_type": "markdown",
      "metadata": {
        "id": "dce3c4e5"
      },
      "source": [
        "# Assignment 1"
      ],
      "id": "dce3c4e5"
    },
    {
      "cell_type": "markdown",
      "metadata": {
        "id": "3922c164"
      },
      "source": [
        "### Q1Take input first name and last name from user store in two variables and then concatenate both variables and print full name"
      ],
      "id": "3922c164"
    },
    {
      "cell_type": "code",
      "metadata": {
        "colab": {
          "base_uri": "https://localhost:8080/"
        },
        "id": "3b177449",
        "outputId": "b28325e6-9a36-4d1f-9e0b-407998794563"
      },
      "source": [
        "a=\"tuba\"\n",
        "b=\"khan\"\n",
        "c=a+b\n",
        "print(c)"
      ],
      "id": "3b177449",
      "execution_count": null,
      "outputs": [
        {
          "name": "stdout",
          "output_type": "stream",
          "text": [
            "tubakhan\n"
          ]
        }
      ]
    },
    {
      "cell_type": "markdown",
      "metadata": {
        "id": "38c5c4b5"
      },
      "source": [
        "### Q2 Write a Python program to take input from user as a string then print first 2 and the last 2 chars from a given a string."
      ],
      "id": "38c5c4b5"
    },
    {
      "cell_type": "code",
      "metadata": {
        "colab": {
          "base_uri": "https://localhost:8080/"
        },
        "id": "fdb4ae4a",
        "outputId": "dff4d099-add3-44e3-c84a-00ed43068d1c"
      },
      "source": [
        "c=\"tubakhan\"\n",
        "print(c[-1-2])"
      ],
      "id": "fdb4ae4a",
      "execution_count": null,
      "outputs": [
        {
          "name": "stdout",
          "output_type": "stream",
          "text": [
            "h\n"
          ]
        }
      ]
    },
    {
      "cell_type": "markdown",
      "metadata": {
        "id": "24c8308d"
      },
      "source": [
        "### Q3 Write a Python program to remove the “h” character from the “TechShoor”."
      ],
      "id": "24c8308d"
    },
    {
      "cell_type": "code",
      "metadata": {
        "colab": {
          "base_uri": "https://localhost:8080/"
        },
        "id": "b88970b5",
        "outputId": "90f7fcbb-005e-4cec-9d64-a608ebaf8c61"
      },
      "source": [
        "a=\"Techshoor\"\n",
        "print(a[3])"
      ],
      "id": "b88970b5",
      "execution_count": null,
      "outputs": [
        {
          "name": "stdout",
          "output_type": "stream",
          "text": [
            "h\n"
          ]
        }
      ]
    },
    {
      "cell_type": "markdown",
      "metadata": {
        "id": "cff3654b"
      },
      "source": [
        "### Q4 Write a Python program that accepts a comma separated sequence of words as input and prints the unique words in sorted form (alphanumerically).Sample Words: car, bike, truck, cycle, skateboard, civic"
      ],
      "id": "cff3654b"
    },
    {
      "cell_type": "code",
      "metadata": {
        "colab": {
          "base_uri": "https://localhost:8080/"
        },
        "id": "9SrYayuorByc",
        "outputId": "ed205290-c85b-4144-f9a8-7ed406d2f3fd"
      },
      "source": [
        "items = (\"car, bike, truck, cycle, skateboard, civic\")\n",
        "print(items.isalnum())"
      ],
      "id": "9SrYayuorByc",
      "execution_count": 16,
      "outputs": [
        {
          "output_type": "stream",
          "name": "stdout",
          "text": [
            "False\n"
          ]
        }
      ]
    },
    {
      "cell_type": "markdown",
      "metadata": {
        "id": "ad9c5197"
      },
      "source": [
        "### Q5 Write a Python Program take sample string: “I am a bad person” to replace with “I am a good person”. Hint (Use replace function)"
      ],
      "id": "ad9c5197"
    },
    {
      "cell_type": "code",
      "metadata": {
        "colab": {
          "base_uri": "https://localhost:8080/",
          "height": 35
        },
        "id": "47c0146e",
        "outputId": "5ae501dd-bde6-48bd-f751-e76b2dbd2105"
      },
      "source": [
        "a=\"i am a bad person\"\n",
        "b=\"i am a good person\"\n",
        "str.replace(b,a,c)"
      ],
      "id": "47c0146e",
      "execution_count": null,
      "outputs": [
        {
          "data": {
            "application/vnd.google.colaboratory.intrinsic+json": {
              "type": "string"
            },
            "text/plain": [
              "'i am a good person'"
            ]
          },
          "execution_count": 31,
          "metadata": {},
          "output_type": "execute_result"
        }
      ]
    },
    {
      "cell_type": "markdown",
      "metadata": {
        "id": "ec2c2a76"
      },
      "source": [
        "### Q6 Write a Python program to reverse any string."
      ],
      "id": "ec2c2a76"
    },
    {
      "cell_type": "code",
      "metadata": {
        "colab": {
          "base_uri": "https://localhost:8080/"
        },
        "id": "9a1e5025",
        "outputId": "37e1b70c-8262-47ff-d6bd-24280bdc760c"
      },
      "source": [
        "inputStr=\"tubakhan\"\n",
        "print(inputStr[-1::-1])"
      ],
      "id": "9a1e5025",
      "execution_count": null,
      "outputs": [
        {
          "name": "stdout",
          "output_type": "stream",
          "text": [
            "nahkabut\n"
          ]
        }
      ]
    },
    {
      "cell_type": "markdown",
      "metadata": {
        "id": "46e93424"
      },
      "source": [
        "### Q7 Write a Python program which accepts the radius of a circle from the user and compute the area"
      ],
      "id": "46e93424"
    },
    {
      "cell_type": "code",
      "metadata": {
        "id": "8d3c014d"
      },
      "source": [
        ""
      ],
      "id": "8d3c014d",
      "execution_count": null,
      "outputs": []
    },
    {
      "cell_type": "markdown",
      "metadata": {
        "id": "76b51365"
      },
      "source": [
        "### Q8 Write a Python Program to count how many times ‘o’ in “Gooooooooooooooooogle”"
      ],
      "id": "76b51365"
    },
    {
      "cell_type": "code",
      "metadata": {
        "colab": {
          "base_uri": "https://localhost:8080/"
        },
        "id": "8bffe1c6",
        "outputId": "d7d30e72-1e72-4744-d6cc-80ebe06ac1c9"
      },
      "source": [
        "message =\"Gooooooooooooooogle\"\n",
        "print('Number of occurrence of o:', message.count('o'))"
      ],
      "id": "8bffe1c6",
      "execution_count": 1,
      "outputs": [
        {
          "output_type": "stream",
          "name": "stdout",
          "text": [
            "Number of occurrence of o: 15\n"
          ]
        }
      ]
    },
    {
      "cell_type": "markdown",
      "metadata": {
        "id": "fa32d9a1"
      },
      "source": [
        "### Q9 Create a Python Program to slice this string “I like to eat banana” and print only “ike to eat”"
      ],
      "id": "fa32d9a1"
    },
    {
      "cell_type": "code",
      "metadata": {
        "colab": {
          "base_uri": "https://localhost:8080/"
        },
        "id": "cc03c6f4",
        "outputId": "f7a0cbfc-7a09-4567-fb67-4be50d878392"
      },
      "source": [
        "f=\"iliketoeatbanana\"\n",
        "print(f[2:-6])"
      ],
      "id": "cc03c6f4",
      "execution_count": 10,
      "outputs": [
        {
          "output_type": "stream",
          "name": "stdout",
          "text": [
            "iketoeat\n"
          ]
        }
      ]
    },
    {
      "cell_type": "markdown",
      "metadata": {
        "id": "d619febb"
      },
      "source": [
        "### Q10 Write a Python program to print the following string in a specific format. (see Output)"
      ],
      "id": "d619febb"
    },
    {
      "cell_type": "raw",
      "metadata": {
        "id": "87b9e4b3"
      },
      "source": [
        "Sample String : \"Twinkle, twinkle, little star, How I wonder what you are! Up above the world so high, Like a diamond in the sky. Twinkle, twinkle, little star,How I wonder what you are\"\n",
        "\n",
        "Output :\n",
        "\n",
        "Twinkle, twinkle, little star,\n",
        "  How I wonder what you are!\n",
        "        Up above the world so high,\n",
        "        Like a diamond in the sky.\n",
        "Twinkle, twinkle, little star,\n",
        "  How I wonder what you are\n",
        "  \n",
        "The above output is required in print form"
      ],
      "id": "87b9e4b3"
    },
    {
      "cell_type": "code",
      "metadata": {
        "colab": {
          "base_uri": "https://localhost:8080/"
        },
        "id": "ca90da1c",
        "outputId": "23f7d584-a47f-4e96-fdd2-9dcbd4a71550"
      },
      "source": [
        "i=\"tiwinkle, twinkle, little star how i wonder what you are! up above the world so high,like a diamond in the sky.\"\n",
        "print(i)"
      ],
      "id": "ca90da1c",
      "execution_count": null,
      "outputs": [
        {
          "name": "stdout",
          "output_type": "stream",
          "text": [
            "tiwinkle, twinkle, little star how i wonder what you are! up above the world so high,like a diamond in the sky.\n"
          ]
        }
      ]
    },
    {
      "cell_type": "code",
      "metadata": {
        "id": "pYNH4lgkupo6"
      },
      "source": [
        ""
      ],
      "id": "pYNH4lgkupo6",
      "execution_count": null,
      "outputs": []
    }
  ]
}